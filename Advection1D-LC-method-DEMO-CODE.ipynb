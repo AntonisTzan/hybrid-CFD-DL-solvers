{
 "cells": [
  {
   "cell_type": "markdown",
   "id": "abeaf6e8",
   "metadata": {},
   "source": [
    "# Imports"
   ]
  },
  {
   "cell_type": "code",
   "execution_count": 1,
   "id": "946c9e60",
   "metadata": {},
   "outputs": [
    {
     "data": {
      "text/plain": [
       "('2.2.1', '2.3.0-tf')"
      ]
     },
     "execution_count": 1,
     "metadata": {},
     "output_type": "execute_result"
    }
   ],
   "source": [
    "\n",
    "%matplotlib inline\n",
    "import collections\n",
    "from typing import (\n",
    "    Any, Dict, List, Optional, Mapping, Set, TypeVar, Tuple, Union,\n",
    ")\n",
    "import tensorflow as tf\n",
    "import numpy as np\n",
    "import scipy.special\n",
    "import pandas as pd\n",
    "import matplotlib.pyplot as plt\n",
    "plt.rcParams['font.size'] = 14\n",
    "import xarray\n",
    "import sys, os\n",
    "\n",
    "import random\n",
    "\n",
    "my_seed = 43\n",
    "random.seed(my_seed)\n",
    "np.random.seed(my_seed)\n",
    "tf.random.set_seed(my_seed)\n",
    "\n",
    "from mylayers import stable_time_step,conv2d_van, TimeDLayer_LC, Euler\n",
    "\n",
    "\n",
    "tf.__version__, tf.keras.__version__\n",
    "\n"
   ]
  },
  {
   "cell_type": "code",
   "execution_count": 2,
   "id": "433b6993",
   "metadata": {},
   "outputs": [],
   "source": [
    "tf.keras.backend.set_floatx('float64')"
   ]
  },
  {
   "cell_type": "markdown",
   "id": "3ea73a56",
   "metadata": {},
   "source": [
    "# Load my data"
   ]
  },
  {
   "cell_type": "code",
   "execution_count": 3,
   "id": "fe4d2846",
   "metadata": {},
   "outputs": [
    {
     "data": {
      "text/plain": [
       "(TensorShape([5670, 48]), TensorShape([5670, 4, 48]))"
      ]
     },
     "execution_count": 3,
     "metadata": {},
     "output_type": "execute_result"
    }
   ],
   "source": [
    "my_concentration_np = np.load('my_train_input384_superbee.npy') #'my_train_input384.npy', # my_train_input384_superbee.npy\n",
    "my_train_output_np = np.load('my_train_output384_superbee.npy') #'my_train_output384.npy',my_train_output384_superbee.npy\n",
    "\n",
    "my_concentration = tf.convert_to_tensor(my_concentration_np)\n",
    "my_train_output = tf.convert_to_tensor(my_train_output_np)\n",
    "\n",
    "del my_concentration_np; del my_train_output_np\n",
    "\n",
    "my_concentration.shape,my_train_output.shape"
   ]
  },
  {
   "cell_type": "code",
   "execution_count": 4,
   "id": "017fb466",
   "metadata": {},
   "outputs": [
    {
     "data": {
      "text/plain": [
       "TensorShape([5670, 48, 4])"
      ]
     },
     "execution_count": 4,
     "metadata": {},
     "output_type": "execute_result"
    }
   ],
   "source": [
    "my_train_output4 = tf.transpose(my_train_output,perm=[0,2,1])\n",
    "my_train_output4.shape"
   ]
  },
  {
   "cell_type": "markdown",
   "id": "86339ab5",
   "metadata": {},
   "source": [
    "# Set common names as inputs: concentration1,train_output4"
   ]
  },
  {
   "cell_type": "code",
   "execution_count": 5,
   "id": "cfef9a84",
   "metadata": {},
   "outputs": [],
   "source": [
    "concentration1 = my_concentration\n",
    "train_output4=my_train_output4"
   ]
  },
  {
   "cell_type": "markdown",
   "id": "6d0f7933",
   "metadata": {},
   "source": [
    "## Hybrid Model - LC"
   ]
  },
  {
   "cell_type": "code",
   "execution_count": 17,
   "id": "b2d84058",
   "metadata": {},
   "outputs": [],
   "source": [
    "class HybridModelLC(tf.keras.Model):\n",
    "    def __init__(self,quantum_steps,grid_step, velocity,  courant=0.5,\n",
    "                 num_layers=4,filters=32,kernel_size=(3,1),**kwargs):\n",
    "        \n",
    "        super().__init__()\n",
    "        \n",
    "        self.quantum_steps = quantum_steps\n",
    "        self.grid_step =tf.cast(grid_step,dtype=tf.float64) \n",
    "        self.time_step = tf.cast(stable_time_step(velocity,self.grid_step,courant),dtype=tf.float64)\n",
    "        \n",
    "        self.trainable_part = conv2d_van(1,num_layers,filters, kernel_size,**kwargs)\n",
    "        \n",
    "        self.layer2 = TimeDLayer_LC(grid_step = self.grid_step,constant_velocity=velocity,time_step = self.time_step)\n",
    "        self.layer3 = Euler(time_step = self.time_step)\n",
    "        \n",
    "        \n",
    "    def call(self,inputs): #inputs here is cell_averages snapshot (C^old_\\forall {i})\n",
    "        inputs = tf.cast(inputs,dtype=tf.float64)\n",
    "        \n",
    "        def call_full(inps):\n",
    "            field_snapshot = inps \n",
    "         \n",
    "            x=self.layer2(field_snapshot) # time_derivatives snapshots\n",
    "\n",
    "            new_field_snapshot=self.layer3([x,field_snapshot]) \n",
    "\n",
    "            h =tf.shape(new_field_snapshot)[0]; w= tf.shape(new_field_snapshot)[1];\n",
    "            nn_correction = tf.reshape(self.trainable_part(tf.expand_dims(tf.expand_dims(new_field_snapshot,axis=-1),axis=-1)),shape=[h,w])  # shape=(batch_size,32,1,basis_size)          \n",
    "            \n",
    "            self.corrections_single = nn_correction #just for printing corrections\n",
    "            \n",
    "            \n",
    "            corrected_new_field_snapshot = new_field_snapshot + nn_correction \n",
    "            \n",
    "            \n",
    "            return corrected_new_field_snapshot\n",
    "    \n",
    "        \n",
    "        inps = inputs\n",
    "        results =[]\n",
    "        self.corrections_mult = []\n",
    "        \n",
    "        \n",
    "        for quantum_step in range(self.quantum_steps):\n",
    "            ## =======full model============|\n",
    "            result = call_full(inps) \n",
    "            results.append(result)\n",
    "            self.corrections_mult.append(self.corrections_single)\n",
    "\n",
    "            inps = result #outputs rho^(n+1)_for-every-i \n",
    "\n",
    "\n",
    "        ## ===================================================\n",
    "            \n",
    "        final_res = tf.stack(results, axis=-1)\n",
    "        self.corrects = tf.stack(self.corrections_mult,axis=-1)\n",
    "            \n",
    "        return final_res"
   ]
  },
  {
   "cell_type": "markdown",
   "id": "9b246e3b",
   "metadata": {},
   "source": [
    "# Instantiate the hybrid model"
   ]
  },
  {
   "cell_type": "code",
   "execution_count": 26,
   "id": "caf8f848",
   "metadata": {},
   "outputs": [],
   "source": [
    "random.seed(my_seed)\n",
    "np.random.seed(my_seed)\n",
    "tf.random.set_seed(my_seed)\n",
    "\n",
    "wrapper = HybridModelLC(quantum_steps = 4,grid_step=8,velocity=1.,\n",
    "                        num_layers=4,filters=32,kernel_size=(3,1))"
   ]
  },
  {
   "cell_type": "markdown",
   "id": "5f18c18e",
   "metadata": {},
   "source": [
    "# ---------------------------------------------------------------------------------------------------------"
   ]
  },
  {
   "cell_type": "markdown",
   "id": "b9877c43",
   "metadata": {},
   "source": [
    "# Other useful functionalities"
   ]
  },
  {
   "cell_type": "markdown",
   "id": "6b463ed1",
   "metadata": {},
   "source": [
    "### Create a custom callback for the validating runs:\n",
    "#### see sec 3.4 in thesis: \"Early stopping strategy\""
   ]
  },
  {
   "cell_type": "code",
   "execution_count": 27,
   "id": "4ab3caae",
   "metadata": {},
   "outputs": [],
   "source": [
    "class CustomCallback(tf.keras.callbacks.Callback):\n",
    "    def __init__(self, real_tensor,file_path, frequency=3, tolerance=0.01, start_timestep=10,quantum_steps=wrapper.quantum_steps):\n",
    "        super().__init__()\n",
    "        self.real_tensor = real_tensor\n",
    "        self.frequency = frequency\n",
    "        self.tolerance = tolerance\n",
    "        self.start_timestep = start_timestep\n",
    "        self.time_steps = np.arange(0,1*196+1)\n",
    "        self.quantum_steps = quantum_steps\n",
    "        self.mae_differences = []  \n",
    "        self.file_path = file_path\n",
    "        \n",
    "    def on_epoch_end(self, epoch, logs=None):\n",
    "        each = int(concentration1.shape[0]/4)\n",
    "        save_list = []\n",
    "        if (epoch + 1) % self.frequency == 0:\n",
    "            \n",
    "\n",
    "            processed_predictions,resulting_corrects= forward_in_time(initial_state = concentration1[0:30], time_steps = self.time_steps,quantum_steps=self.quantum_steps) #129)  # Your additional processing\n",
    "\n",
    "\n",
    "            # Calculate MAE for each timestep\n",
    "            mae_per_timestep = tf.reduce_mean(tf.keras.losses.mean_absolute_error(\n",
    "                self.real_tensor, processed_predictions), axis=1)\n",
    "\n",
    "            # Check if MAEs are almost horizontal starting from the 10th timestep\n",
    "            mae_from_start = mae_per_timestep[self.start_timestep:]\n",
    "            max_min = tf.reduce_max(mae_from_start) - tf.reduce_min(mae_from_start)\n",
    "            \n",
    "            self.mae_differences.append(max_min.numpy())\n",
    "            \n",
    "            if  max_min < self.tolerance:\n",
    "                print(f\"Stopping training at epoch {epoch + 1} as MAE is almost horizontal from timestep {self.start_timestep}.\")\n",
    "                self.model.stop_training = True\n",
    "                \n",
    "                \n",
    "    def on_train_end(self, logs=None):\n",
    "        # Save the mae_differences to a file at the end of training\n",
    "        with open(self.file_path, 'w') as f:\n",
    "            for diff in self.mae_differences:\n",
    "                f.write(f\"{diff}\\n\")"
   ]
  },
  {
   "cell_type": "code",
   "execution_count": 28,
   "id": "0b75335e",
   "metadata": {},
   "outputs": [
    {
     "data": {
      "text/plain": [
       "((3073, 30, 48), (3073, 30, 48))"
      ]
     },
     "execution_count": 28,
     "metadata": {},
     "output_type": "execute_result"
    }
   ],
   "source": [
    "## LOAD THE DATA FROM THE PURE NUMERICAL SOLVERS\n",
    "\n",
    "high_res = np.load('high_res_simul384_superbee.npy')\n",
    "low_res = np.load('low_res_simul384_superbee.npy')\n",
    "high_res.shape, low_res.shape"
   ]
  },
  {
   "cell_type": "code",
   "execution_count": 29,
   "id": "d6f4b64e",
   "metadata": {},
   "outputs": [
    {
     "data": {
      "text/plain": [
       "(197, 30, 48)"
      ]
     },
     "execution_count": 29,
     "metadata": {},
     "output_type": "execute_result"
    }
   ],
   "source": [
    "## INSTANTIATE THE CUSTOM CALLBACK\n",
    "\n",
    "file_path = \"../MAEtracking/advection_LC/mae_lr3e3_3e4_b64_q4_l4_f32_k3.dat\"\n",
    "\n",
    "custom_callback = CustomCallback(real_tensor=high_res[:197],\n",
    "                                 file_path = file_path,\n",
    "                                 frequency=1, \n",
    "                                 tolerance=1e-5,\n",
    "                                 quantum_steps=4)\n",
    "high_res[:197].shape\n"
   ]
  },
  {
   "cell_type": "markdown",
   "id": "54b0e84f",
   "metadata": {},
   "source": [
    "### Iterator in time"
   ]
  },
  {
   "cell_type": "code",
   "execution_count": 30,
   "id": "330b8d2a",
   "metadata": {},
   "outputs": [],
   "source": [
    "# def forward_in_time(initial_state:tf.Tensor, time_steps:np.array,quantum_steps:int=3):\n",
    "#     '''\n",
    "#     Uses our trained model to make predictions in time.\n",
    "#     Args: \n",
    "#     initial_state: the snapshot of the field @ t=0\n",
    "#     time_steps: number of time steps we want to go forward in time\n",
    "#     quantum_steps: number of snapshots produced by our model for every single input instance.\n",
    "#     p.e. input:(3750,32) --> output:(3750,32,quantum_steps)=(3750,32,4)\n",
    "    \n",
    "#     '''\n",
    "    \n",
    "#     res_list=[]\n",
    "#     correct_list =[]\n",
    "#     initial_state0 = tf.expand_dims(initial_state,axis=-1) # snapshot @ t=0 is saved here\n",
    "    \n",
    "#     for time_step in range(0,len(time_steps)-quantum_steps,quantum_steps):\n",
    "        \n",
    "#         prediction_for_every_time_step = wrapper(initial_state)\n",
    "        \n",
    "#         res_list.append(prediction_for_every_time_step) \n",
    "#         correct_list.append(wrapper.corrects)\n",
    "        \n",
    "#         initial_state = prediction_for_every_time_step[:,:,-1] #the last snapshot is used\n",
    "        \n",
    "    \n",
    "#     stacked_res = tf.concat(res_list,axis=-1) \n",
    "#     corrects_fin = tf.concat(correct_list,axis=-1)\n",
    "    \n",
    "#     stacked2 = tf.concat([initial_state0,stacked_res],axis=-1) # concat the snapshot @t=0 (known as input)\n",
    "        \n",
    "#     stacked3 = tf.transpose(stacked2,perm = [2,0,1]) \n",
    "    \n",
    "#     return stacked3,corrects_fin\n"
   ]
  },
  {
   "cell_type": "code",
   "execution_count": 31,
   "id": "f5f64a93",
   "metadata": {},
   "outputs": [],
   "source": [
    "def forward_in_time(initial_state:tf.Tensor, time_steps:np.array,quantum_steps:int=3):\n",
    "    '''\n",
    "    FOR THE 1D ADVECTION EQUATION: Uses our hybrid LI trained model to make predictions in time\n",
    "    and to also output the coefficients that are produced by the CNN to compute the spatial derivatives.\n",
    "    Args: \n",
    "    initial_state: the snapshot of the field @ t=0\n",
    "    time_steps: number of time steps we want to go forward in time\n",
    "    quantum_steps: number of snapshots produced by our model for every single input instance.\n",
    "    p.e. input:(3750,32) --> output:(3750,32,quantum_steps)=(3750,32,4)\n",
    "    \n",
    "    '''\n",
    "\n",
    "    res_list = []\n",
    "    correct_list = []\n",
    "    initial_state0 = tf.expand_dims(initial_state, axis=-1)  # snapshot @ t=0 is saved here\n",
    "\n",
    "    # Check if 'corrects' attribute exists in 'wrapper' at the beginning\n",
    "    if hasattr(wrapper, 'corrects'):\n",
    "        for time_step in range(0, len(time_steps) - quantum_steps, quantum_steps):\n",
    "\n",
    "            prediction_for_every_time_step = wrapper(initial_state)\n",
    "\n",
    "            res_list.append(prediction_for_every_time_step)\n",
    "            correct_list.append(wrapper.corrects)\n",
    "\n",
    "            initial_state = prediction_for_every_time_step[:, :, -1]  # the last snapshot is used\n",
    "\n",
    "        stacked_res = tf.concat(res_list, axis=-1)\n",
    "        corrects_fin = tf.concat(correct_list,axis=-1)\n",
    "\n",
    "    else:\n",
    "        for time_step in range(0, len(time_steps) - quantum_steps, quantum_steps):\n",
    "\n",
    "            prediction_for_every_time_step = wrapper(initial_state)\n",
    "\n",
    "            res_list.append(prediction_for_every_time_step)\n",
    "\n",
    "            initial_state = prediction_for_every_time_step[:, :, -1]  # the last snapshot is used\n",
    "\n",
    "        stacked_res = tf.concat(res_list, axis=-1)\n",
    "        corrects_fin = None  \n",
    "\n",
    "    stacked2 = tf.concat([initial_state0, stacked_res], axis=-1)\n",
    "    stacked3 = tf.transpose(stacked2, perm=[2, 0, 1])\n",
    "\n",
    "    if corrects_fin is not None:\n",
    "        return stacked3, corrects_fin\n",
    "    else:\n",
    "        return stacked3\n"
   ]
  },
  {
   "cell_type": "markdown",
   "id": "bc28be26",
   "metadata": {},
   "source": [
    "# Training time"
   ]
  },
  {
   "cell_type": "code",
   "execution_count": 32,
   "id": "cb4b452b",
   "metadata": {},
   "outputs": [],
   "source": [
    "def lr_schedule(epoch):\n",
    "    if epoch < 150:\n",
    "        return 3e-3\n",
    "    elif epoch < 157:\n",
    "        return 3e-4\n",
    "    else:\n",
    "        return 1e-4\n",
    "\n",
    "# Create a LearningRateScheduler callback\n",
    "lr_scheduler = tf.keras.callbacks.LearningRateScheduler(lr_schedule)\n"
   ]
  },
  {
   "cell_type": "code",
   "execution_count": 33,
   "id": "802f0c37",
   "metadata": {},
   "outputs": [
    {
     "name": "stdout",
     "output_type": "stream",
     "text": [
      "Epoch 1/156\n",
      "89/89 [==============================] - 3s 37ms/step - loss: 0.0183 - root_mean_squared_error: 0.0540 - lr: 0.0030\n",
      "Epoch 2/156\n",
      "89/89 [==============================] - 3s 38ms/step - loss: 0.0040 - root_mean_squared_error: 0.0195 - lr: 0.0030\n",
      "Epoch 3/156\n",
      "89/89 [==============================] - 3s 38ms/step - loss: 0.0034 - root_mean_squared_error: 0.0181 - lr: 0.0030\n",
      "Epoch 4/156\n",
      "89/89 [==============================] - 3s 38ms/step - loss: 0.0028 - root_mean_squared_error: 0.0168 - lr: 0.0030\n",
      "Epoch 5/156\n",
      "89/89 [==============================] - 4s 40ms/step - loss: 0.0028 - root_mean_squared_error: 0.0162 - lr: 0.0030\n",
      "Epoch 6/156\n",
      "89/89 [==============================] - 4s 40ms/step - loss: 0.0024 - root_mean_squared_error: 0.0152 - lr: 0.0030\n",
      "Epoch 7/156\n",
      "89/89 [==============================] - 3s 37ms/step - loss: 0.0023 - root_mean_squared_error: 0.0141 - lr: 0.0030\n",
      "Epoch 8/156\n",
      "89/89 [==============================] - 3s 38ms/step - loss: 0.0022 - root_mean_squared_error: 0.0133 - lr: 0.0030\n",
      "Epoch 9/156\n",
      "89/89 [==============================] - 3s 38ms/step - loss: 0.0021 - root_mean_squared_error: 0.0125 - lr: 0.0030\n",
      "Epoch 10/156\n",
      "89/89 [==============================] - 3s 38ms/step - loss: 0.0020 - root_mean_squared_error: 0.0117 - lr: 0.0030\n",
      "Epoch 11/156\n",
      "89/89 [==============================] - 3s 38ms/step - loss: 0.0018 - root_mean_squared_error: 0.0110 - lr: 0.0030\n",
      "Epoch 12/156\n",
      "89/89 [==============================] - 3s 35ms/step - loss: 0.0018 - root_mean_squared_error: 0.0105 - lr: 0.0030\n",
      "Epoch 13/156\n",
      "89/89 [==============================] - 3s 39ms/step - loss: 0.0018 - root_mean_squared_error: 0.0100 - lr: 0.0030\n",
      "Epoch 14/156\n",
      "89/89 [==============================] - 3s 38ms/step - loss: 0.0016 - root_mean_squared_error: 0.0094 - lr: 0.0030\n",
      "Epoch 15/156\n",
      "89/89 [==============================] - 3s 39ms/step - loss: 0.0017 - root_mean_squared_error: 0.0089 - lr: 0.0030\n",
      "Epoch 16/156\n",
      "89/89 [==============================] - 3s 38ms/step - loss: 0.0016 - root_mean_squared_error: 0.0083 - lr: 0.0030\n",
      "Epoch 17/156\n",
      "89/89 [==============================] - 3s 38ms/step - loss: 0.0015 - root_mean_squared_error: 0.0076 - lr: 0.0030\n",
      "Epoch 18/156\n",
      "89/89 [==============================] - 3s 38ms/step - loss: 0.0014 - root_mean_squared_error: 0.0071 - lr: 0.0030\n",
      "Epoch 19/156\n",
      "89/89 [==============================] - 3s 36ms/step - loss: 0.0016 - root_mean_squared_error: 0.0069 - lr: 0.0030\n",
      "Epoch 20/156\n",
      "89/89 [==============================] - 3s 37ms/step - loss: 0.0013 - root_mean_squared_error: 0.0064 - lr: 0.0030\n",
      "Epoch 21/156\n",
      "89/89 [==============================] - 3s 39ms/step - loss: 0.0013 - root_mean_squared_error: 0.0061 - lr: 0.0030\n",
      "Epoch 22/156\n",
      "89/89 [==============================] - 3s 38ms/step - loss: 0.0014 - root_mean_squared_error: 0.0061 - lr: 0.0030\n",
      "Epoch 23/156\n",
      "89/89 [==============================] - 3s 39ms/step - loss: 0.0011 - root_mean_squared_error: 0.0057 - lr: 0.0030\n",
      "Epoch 24/156\n",
      "89/89 [==============================] - 4s 41ms/step - loss: 0.0013 - root_mean_squared_error: 0.0060 - lr: 0.0030\n",
      "Epoch 25/156\n",
      "89/89 [==============================] - 3s 38ms/step - loss: 0.0012 - root_mean_squared_error: 0.0056 - lr: 0.0030\n",
      "Epoch 26/156\n",
      "89/89 [==============================] - 3s 36ms/step - loss: 0.0015 - root_mean_squared_error: 0.0056 - lr: 0.0030\n",
      "Epoch 27/156\n",
      "89/89 [==============================] - 3s 38ms/step - loss: 0.0011 - root_mean_squared_error: 0.0052 - lr: 0.0030\n",
      "Epoch 28/156\n",
      "89/89 [==============================] - 3s 38ms/step - loss: 0.0014 - root_mean_squared_error: 0.0061 - lr: 0.0030\n",
      "Epoch 29/156\n",
      "89/89 [==============================] - 3s 36ms/step - loss: 0.0012 - root_mean_squared_error: 0.0058 - lr: 0.0030\n",
      "Epoch 30/156\n",
      "89/89 [==============================] - 3s 38ms/step - loss: 0.0011 - root_mean_squared_error: 0.0053 - lr: 0.0030\n",
      "Epoch 31/156\n",
      "89/89 [==============================] - 3s 38ms/step - loss: 0.0011 - root_mean_squared_error: 0.0051 - lr: 0.0030\n",
      "Epoch 32/156\n",
      "89/89 [==============================] - 4s 41ms/step - loss: 0.0010 - root_mean_squared_error: 0.0050 - lr: 0.0030\n",
      "Epoch 33/156\n",
      "89/89 [==============================] - 3s 38ms/step - loss: 0.0010 - root_mean_squared_error: 0.0049 - lr: 0.0030\n",
      "Epoch 34/156\n",
      "89/89 [==============================] - 3s 38ms/step - loss: 0.0011 - root_mean_squared_error: 0.0049 - lr: 0.0030\n",
      "Epoch 35/156\n",
      "89/89 [==============================] - 3s 38ms/step - loss: 0.0016 - root_mean_squared_error: 0.0052 - lr: 0.0030\n",
      "Epoch 36/156\n",
      "89/89 [==============================] - 3s 39ms/step - loss: 0.0016 - root_mean_squared_error: 0.0052 - lr: 0.0030\n",
      "Epoch 37/156\n",
      "89/89 [==============================] - 3s 37ms/step - loss: 0.0015 - root_mean_squared_error: 0.0050 - lr: 0.0030\n",
      "Epoch 38/156\n",
      "89/89 [==============================] - 3s 39ms/step - loss: 0.0014 - root_mean_squared_error: 0.0049 - lr: 0.0030\n",
      "Epoch 39/156\n",
      "89/89 [==============================] - 4s 39ms/step - loss: 0.0014 - root_mean_squared_error: 0.0049 - lr: 0.0030\n",
      "Epoch 40/156\n",
      "89/89 [==============================] - 3s 38ms/step - loss: 9.1958e-04 - root_mean_squared_error: 0.0046 - lr: 0.0030\n",
      "Epoch 41/156\n",
      "89/89 [==============================] - 3s 38ms/step - loss: 8.8928e-04 - root_mean_squared_error: 0.0045 - lr: 0.0030\n",
      "Epoch 42/156\n",
      "89/89 [==============================] - 3s 37ms/step - loss: 8.6572e-04 - root_mean_squared_error: 0.0044 - lr: 0.0030\n",
      "Epoch 43/156\n",
      "89/89 [==============================] - 4s 42ms/step - loss: 8.6387e-04 - root_mean_squared_error: 0.0044 - lr: 0.0030\n",
      "Epoch 44/156\n",
      "89/89 [==============================] - 3s 38ms/step - loss: 8.7231e-04 - root_mean_squared_error: 0.0043 - lr: 0.0030\n",
      "Epoch 45/156\n",
      "89/89 [==============================] - 3s 38ms/step - loss: 8.6073e-04 - root_mean_squared_error: 0.0042 - lr: 0.0030\n",
      "Epoch 46/156\n",
      "89/89 [==============================] - 4s 40ms/step - loss: 0.0010 - root_mean_squared_error: 0.0043 - lr: 0.0030\n",
      "Epoch 47/156\n",
      "89/89 [==============================] - 4s 40ms/step - loss: 9.8870e-04 - root_mean_squared_error: 0.0044 - lr: 0.0030\n",
      "Epoch 48/156\n",
      "89/89 [==============================] - 3s 39ms/step - loss: 8.7381e-04 - root_mean_squared_error: 0.0041 - lr: 0.0030\n",
      "Epoch 49/156\n",
      "89/89 [==============================] - 4s 40ms/step - loss: 8.6879e-04 - root_mean_squared_error: 0.0040 - lr: 0.0030\n",
      "Epoch 50/156\n",
      "89/89 [==============================] - 3s 37ms/step - loss: 8.3494e-04 - root_mean_squared_error: 0.0039 - lr: 0.0030\n",
      "Epoch 51/156\n",
      "89/89 [==============================] - 3s 38ms/step - loss: 8.5741e-04 - root_mean_squared_error: 0.0038 - lr: 0.0030\n",
      "Epoch 52/156\n",
      "89/89 [==============================] - 3s 38ms/step - loss: 8.4110e-04 - root_mean_squared_error: 0.0037 - lr: 0.0030\n",
      "Epoch 53/156\n",
      "89/89 [==============================] - 3s 39ms/step - loss: 8.2723e-04 - root_mean_squared_error: 0.0037 - lr: 0.0030\n",
      "Epoch 54/156\n",
      "89/89 [==============================] - 3s 37ms/step - loss: 8.6259e-04 - root_mean_squared_error: 0.0038 - lr: 0.0030\n",
      "Epoch 55/156\n",
      "89/89 [==============================] - 4s 40ms/step - loss: 8.2554e-04 - root_mean_squared_error: 0.0035 - lr: 0.0030\n",
      "Epoch 56/156\n",
      "89/89 [==============================] - 3s 37ms/step - loss: 8.3744e-04 - root_mean_squared_error: 0.0034 - lr: 0.0030\n",
      "Epoch 57/156\n",
      "89/89 [==============================] - 3s 36ms/step - loss: 8.1110e-04 - root_mean_squared_error: 0.0033 - lr: 0.0030\n",
      "Epoch 58/156\n",
      "89/89 [==============================] - 3s 36ms/step - loss: 8.0069e-04 - root_mean_squared_error: 0.0032 - lr: 0.0030\n",
      "Epoch 59/156\n",
      "89/89 [==============================] - 3s 36ms/step - loss: 0.0011 - root_mean_squared_error: 0.0033 - lr: 0.0030\n",
      "Epoch 60/156\n",
      "89/89 [==============================] - 3s 36ms/step - loss: 0.0013 - root_mean_squared_error: 0.0034 - lr: 0.0030\n",
      "Epoch 61/156\n",
      "89/89 [==============================] - 3s 35ms/step - loss: 0.0013 - root_mean_squared_error: 0.0034 - lr: 0.0030\n",
      "Epoch 62/156\n",
      "89/89 [==============================] - 3s 36ms/step - loss: 0.0012 - root_mean_squared_error: 0.0032 - lr: 0.0030\n",
      "Epoch 63/156\n",
      "89/89 [==============================] - 3s 38ms/step - loss: 0.0012 - root_mean_squared_error: 0.0031 - lr: 0.0030\n",
      "Epoch 64/156\n"
     ]
    },
    {
     "name": "stdout",
     "output_type": "stream",
     "text": [
      "89/89 [==============================] - 3s 38ms/step - loss: 0.0012 - root_mean_squared_error: 0.0030 - lr: 0.0030\n",
      "Epoch 65/156\n",
      "89/89 [==============================] - 3s 37ms/step - loss: 0.0012 - root_mean_squared_error: 0.0029 - lr: 0.0030\n",
      "Epoch 66/156\n",
      "89/89 [==============================] - 3s 37ms/step - loss: 0.0012 - root_mean_squared_error: 0.0027 - lr: 0.0030\n",
      "Epoch 67/156\n",
      "89/89 [==============================] - 3s 37ms/step - loss: 0.0012 - root_mean_squared_error: 0.0028 - lr: 0.0030\n",
      "Epoch 68/156\n",
      "89/89 [==============================] - 3s 37ms/step - loss: 0.0012 - root_mean_squared_error: 0.0028 - lr: 0.0030\n",
      "Epoch 69/156\n",
      "89/89 [==============================] - 3s 38ms/step - loss: 0.0012 - root_mean_squared_error: 0.0028 - lr: 0.0030\n",
      "Epoch 70/156\n",
      "89/89 [==============================] - 3s 38ms/step - loss: 0.0012 - root_mean_squared_error: 0.0029 - lr: 0.0030\n",
      "Epoch 71/156\n",
      "89/89 [==============================] - 3s 37ms/step - loss: 7.6775e-04 - root_mean_squared_error: 0.0024 - lr: 0.0030\n",
      "Epoch 72/156\n",
      "89/89 [==============================] - 3s 35ms/step - loss: 7.0143e-04 - root_mean_squared_error: 0.0021 - lr: 0.0030\n",
      "Epoch 73/156\n",
      "89/89 [==============================] - 3s 37ms/step - loss: 7.0160e-04 - root_mean_squared_error: 0.0020 - lr: 0.0030\n",
      "Epoch 74/156\n",
      "89/89 [==============================] - 3s 38ms/step - loss: 6.9457e-04 - root_mean_squared_error: 0.0019 - lr: 0.0030\n",
      "Epoch 75/156\n",
      "89/89 [==============================] - 3s 37ms/step - loss: 6.6788e-04 - root_mean_squared_error: 0.0017 - lr: 0.0030\n",
      "Epoch 76/156\n",
      "89/89 [==============================] - 3s 36ms/step - loss: 6.8458e-04 - root_mean_squared_error: 0.0017 - lr: 0.0030\n",
      "Epoch 77/156\n",
      "89/89 [==============================] - 3s 36ms/step - loss: 6.6807e-04 - root_mean_squared_error: 0.0015 - lr: 0.0030\n",
      "Epoch 78/156\n",
      "89/89 [==============================] - 3s 36ms/step - loss: 6.5502e-04 - root_mean_squared_error: 0.0013 - lr: 0.0030\n",
      "Epoch 79/156\n",
      "89/89 [==============================] - 3s 37ms/step - loss: 6.4375e-04 - root_mean_squared_error: 0.0012 - lr: 0.0030\n",
      "Epoch 80/156\n",
      "89/89 [==============================] - 3s 36ms/step - loss: 6.5343e-04 - root_mean_squared_error: 0.0012 - lr: 0.0030\n",
      "Epoch 81/156\n",
      "89/89 [==============================] - 3s 37ms/step - loss: 7.3543e-04 - root_mean_squared_error: 0.0014 - lr: 0.0030\n",
      "Epoch 82/156\n",
      "89/89 [==============================] - 4s 44ms/step - loss: 7.6997e-04 - root_mean_squared_error: 0.0015 - lr: 0.0030\n",
      "Epoch 83/156\n",
      "89/89 [==============================] - 4s 47ms/step - loss: 6.6824e-04 - root_mean_squared_error: 0.0012 - lr: 0.0030\n",
      "Epoch 84/156\n",
      "89/89 [==============================] - 4s 49ms/step - loss: 6.4021e-04 - root_mean_squared_error: 0.0012 - lr: 0.0030\n",
      "Epoch 85/156\n",
      "89/89 [==============================] - 4s 41ms/step - loss: 9.4884e-04 - root_mean_squared_error: 0.0018 - lr: 0.0030\n",
      "Epoch 86/156\n",
      "89/89 [==============================] - 4s 43ms/step - loss: 6.2967e-04 - root_mean_squared_error: 0.0011 - lr: 0.0030\n",
      "Epoch 87/156\n",
      "89/89 [==============================] - 3s 38ms/step - loss: 7.3674e-04 - root_mean_squared_error: 0.0014 - lr: 0.0030\n",
      "Epoch 88/156\n",
      "89/89 [==============================] - 4s 41ms/step - loss: 9.3039e-04 - root_mean_squared_error: 0.0017 - lr: 0.0030\n",
      "Epoch 89/156\n",
      "89/89 [==============================] - 3s 39ms/step - loss: 9.4769e-04 - root_mean_squared_error: 0.0018 - lr: 0.0030\n",
      "Epoch 90/156\n",
      "89/89 [==============================] - 5s 55ms/step - loss: 5.3699e-04 - root_mean_squared_error: 0.0011 - lr: 0.0030\n",
      "Epoch 91/156\n",
      "89/89 [==============================] - 4s 46ms/step - loss: 8.8858e-04 - root_mean_squared_error: 0.0016 - lr: 0.0030\n",
      "Epoch 92/156\n",
      "89/89 [==============================] - 3s 37ms/step - loss: 8.4018e-04 - root_mean_squared_error: 0.0015 - lr: 0.0030\n",
      "Epoch 93/156\n",
      "89/89 [==============================] - 3s 39ms/step - loss: 6.2233e-04 - root_mean_squared_error: 0.0012 - lr: 0.0030\n",
      "Epoch 94/156\n",
      "89/89 [==============================] - 3s 38ms/step - loss: 7.4650e-04 - root_mean_squared_error: 0.0015 - lr: 0.0030\n",
      "Epoch 95/156\n",
      "89/89 [==============================] - 3s 37ms/step - loss: 7.0703e-04 - root_mean_squared_error: 0.0013 - lr: 0.0030\n",
      "Epoch 96/156\n",
      "89/89 [==============================] - 3s 37ms/step - loss: 6.7638e-04 - root_mean_squared_error: 0.0012 - lr: 0.0030\n",
      "Epoch 97/156\n",
      "89/89 [==============================] - 3s 37ms/step - loss: 6.7768e-04 - root_mean_squared_error: 0.0013 - lr: 0.0030\n",
      "Epoch 98/156\n",
      "89/89 [==============================] - 3s 38ms/step - loss: 7.9488e-04 - root_mean_squared_error: 0.0016 - lr: 0.0030\n",
      "Epoch 99/156\n",
      "89/89 [==============================] - 4s 39ms/step - loss: 6.3322e-04 - root_mean_squared_error: 0.0011 - lr: 0.0030\n",
      "Epoch 100/156\n",
      "89/89 [==============================] - 4s 41ms/step - loss: 8.2942e-04 - root_mean_squared_error: 0.0016 - lr: 0.0030\n",
      "Epoch 101/156\n",
      "89/89 [==============================] - 4s 41ms/step - loss: 9.4581e-04 - root_mean_squared_error: 0.0018 - lr: 0.0030\n",
      "Epoch 102/156\n",
      "89/89 [==============================] - 4s 41ms/step - loss: 8.9599e-04 - root_mean_squared_error: 0.0020 - lr: 0.0030\n",
      "Epoch 103/156\n",
      "89/89 [==============================] - 4s 42ms/step - loss: 0.0012 - root_mean_squared_error: 0.0021 - lr: 0.0030\n",
      "Epoch 104/156\n",
      "89/89 [==============================] - 3s 39ms/step - loss: 9.7271e-04 - root_mean_squared_error: 0.0017 - lr: 0.0030\n",
      "Epoch 105/156\n",
      "89/89 [==============================] - 4s 40ms/step - loss: 7.1361e-04 - root_mean_squared_error: 0.0013 - lr: 0.0030\n",
      "Epoch 106/156\n",
      "89/89 [==============================] - 4s 41ms/step - loss: 7.5461e-04 - root_mean_squared_error: 0.0015 - lr: 0.0030\n",
      "Epoch 107/156\n",
      "89/89 [==============================] - 7s 75ms/step - loss: 5.6554e-04 - root_mean_squared_error: 0.0012 - lr: 0.0030\n",
      "Epoch 108/156\n",
      "89/89 [==============================] - 6s 65ms/step - loss: 5.6831e-04 - root_mean_squared_error: 0.0012 - lr: 0.0030\n",
      "Epoch 109/156\n",
      "89/89 [==============================] - 4s 44ms/step - loss: 9.2245e-04 - root_mean_squared_error: 0.0027 - lr: 0.0030\n",
      "Epoch 110/156\n",
      "89/89 [==============================] - 4s 46ms/step - loss: 4.9303e-04 - root_mean_squared_error: 0.0011 - lr: 0.0030\n",
      "Epoch 111/156\n",
      "89/89 [==============================] - 5s 52ms/step - loss: 4.7881e-04 - root_mean_squared_error: 0.0011 - lr: 0.0030\n",
      "Epoch 112/156\n",
      "89/89 [==============================] - 4s 50ms/step - loss: 4.0701e-04 - root_mean_squared_error: 0.0010 - lr: 0.0030\n",
      "Epoch 113/156\n",
      "89/89 [==============================] - 4s 49ms/step - loss: 3.6939e-04 - root_mean_squared_error: 9.1077e-04 - lr: 0.0030\n",
      "Epoch 114/156\n",
      "89/89 [==============================] - 4s 50ms/step - loss: 6.6902e-04 - root_mean_squared_error: 0.0014 - lr: 0.0030\n",
      "Epoch 115/156\n",
      "89/89 [==============================] - 4s 48ms/step - loss: 7.1922e-04 - root_mean_squared_error: 0.0018 - lr: 0.0030\n",
      "Epoch 116/156\n",
      "89/89 [==============================] - 4s 51ms/step - loss: 4.2113e-04 - root_mean_squared_error: 0.0011 - lr: 0.0030\n",
      "Epoch 117/156\n",
      "89/89 [==============================] - 4s 43ms/step - loss: 3.6046e-04 - root_mean_squared_error: 8.6047e-04 - lr: 0.0030\n",
      "Epoch 118/156\n",
      "89/89 [==============================] - 4s 49ms/step - loss: 3.4186e-04 - root_mean_squared_error: 8.6520e-04 - lr: 0.0030\n",
      "Epoch 119/156\n",
      "89/89 [==============================] - 5s 54ms/step - loss: 3.8105e-04 - root_mean_squared_error: 9.4230e-04 - lr: 0.0030\n",
      "Epoch 120/156\n",
      "89/89 [==============================] - 4s 43ms/step - loss: 3.6984e-04 - root_mean_squared_error: 9.4641e-04 - lr: 0.0030\n",
      "Epoch 121/156\n",
      "89/89 [==============================] - 4s 41ms/step - loss: 5.4466e-04 - root_mean_squared_error: 0.0012 - lr: 0.0030\n",
      "Epoch 122/156\n",
      "89/89 [==============================] - 4s 51ms/step - loss: 3.4984e-04 - root_mean_squared_error: 8.6449e-04 - lr: 0.0030\n",
      "Epoch 123/156\n",
      "89/89 [==============================] - 5s 52ms/step - loss: 4.0868e-04 - root_mean_squared_error: 9.8033e-04 - lr: 0.0030\n",
      "Epoch 124/156\n",
      "89/89 [==============================] - 4s 43ms/step - loss: 5.6080e-04 - root_mean_squared_error: 0.0012 - lr: 0.0030\n",
      "Epoch 125/156\n"
     ]
    },
    {
     "name": "stdout",
     "output_type": "stream",
     "text": [
      "89/89 [==============================] - 4s 44ms/step - loss: 3.9217e-04 - root_mean_squared_error: 9.0464e-04 - lr: 0.0030\n",
      "Epoch 126/156\n",
      "89/89 [==============================] - 4s 44ms/step - loss: 3.9758e-04 - root_mean_squared_error: 9.2137e-04 - lr: 0.0030\n",
      "Epoch 127/156\n",
      "89/89 [==============================] - 4s 46ms/step - loss: 4.5352e-04 - root_mean_squared_error: 0.0010 - lr: 0.0030\n",
      "Epoch 128/156\n",
      "89/89 [==============================] - 5s 61ms/step - loss: 4.1633e-04 - root_mean_squared_error: 0.0010 - lr: 0.0030\n",
      "Epoch 129/156\n",
      "89/89 [==============================] - 4s 42ms/step - loss: 3.8777e-04 - root_mean_squared_error: 8.9714e-04 - lr: 0.0030\n",
      "Epoch 130/156\n",
      "89/89 [==============================] - 4s 47ms/step - loss: 3.5300e-04 - root_mean_squared_error: 8.5258e-04 - lr: 0.0030\n",
      "Epoch 131/156\n",
      "89/89 [==============================] - 4s 46ms/step - loss: 4.1227e-04 - root_mean_squared_error: 9.8142e-04 - lr: 0.0030\n",
      "Epoch 132/156\n",
      "89/89 [==============================] - 4s 44ms/step - loss: 4.0103e-04 - root_mean_squared_error: 9.5032e-04 - lr: 0.0030\n",
      "Epoch 133/156\n",
      "89/89 [==============================] - 4s 48ms/step - loss: 3.6128e-04 - root_mean_squared_error: 9.2421e-04 - lr: 0.0030\n",
      "Epoch 134/156\n",
      "89/89 [==============================] - 4s 48ms/step - loss: 7.7228e-04 - root_mean_squared_error: 0.0026 - lr: 0.0030\n",
      "Epoch 135/156\n",
      "89/89 [==============================] - 4s 42ms/step - loss: 4.6029e-04 - root_mean_squared_error: 0.0014 - lr: 0.0030\n",
      "Epoch 136/156\n",
      "89/89 [==============================] - 4s 42ms/step - loss: 3.9630e-04 - root_mean_squared_error: 9.5037e-04 - lr: 0.0030\n",
      "Epoch 137/156\n",
      "89/89 [==============================] - 4s 41ms/step - loss: 4.0627e-04 - root_mean_squared_error: 0.0010 - lr: 0.0030\n",
      "Epoch 138/156\n",
      "89/89 [==============================] - 4s 42ms/step - loss: 4.2678e-04 - root_mean_squared_error: 9.7643e-04 - lr: 0.0030\n",
      "Epoch 139/156\n",
      "89/89 [==============================] - 4s 41ms/step - loss: 4.0833e-04 - root_mean_squared_error: 9.5004e-04 - lr: 0.0030\n",
      "Epoch 140/156\n",
      "89/89 [==============================] - 4s 46ms/step - loss: 3.6101e-04 - root_mean_squared_error: 8.3272e-04 - lr: 0.0030\n",
      "Epoch 141/156\n",
      "89/89 [==============================] - 4s 41ms/step - loss: 4.2571e-04 - root_mean_squared_error: 0.0011 - lr: 0.0030\n",
      "Epoch 142/156\n",
      "89/89 [==============================] - 4s 43ms/step - loss: 3.4913e-04 - root_mean_squared_error: 8.3889e-04 - lr: 0.0030\n",
      "Epoch 143/156\n",
      "89/89 [==============================] - 4s 48ms/step - loss: 5.4229e-04 - root_mean_squared_error: 0.0012 - lr: 0.0030\n",
      "Epoch 144/156\n",
      "89/89 [==============================] - 4s 46ms/step - loss: 3.2271e-04 - root_mean_squared_error: 7.9799e-04 - lr: 0.0030\n",
      "Epoch 145/156\n",
      "89/89 [==============================] - 4s 48ms/step - loss: 3.9925e-04 - root_mean_squared_error: 9.7775e-04 - lr: 0.0030\n",
      "Epoch 146/156\n",
      "89/89 [==============================] - 4s 43ms/step - loss: 4.3783e-04 - root_mean_squared_error: 9.7488e-04 - lr: 0.0030\n",
      "Epoch 147/156\n",
      "89/89 [==============================] - 5s 51ms/step - loss: 4.4837e-04 - root_mean_squared_error: 0.0010 - lr: 0.0030\n",
      "Epoch 148/156\n",
      "89/89 [==============================] - 5s 51ms/step - loss: 3.9304e-04 - root_mean_squared_error: 9.5193e-04 - lr: 0.0030\n",
      "Epoch 149/156\n",
      "89/89 [==============================] - 4s 48ms/step - loss: 3.6040e-04 - root_mean_squared_error: 8.5037e-04 - lr: 0.0030\n",
      "Epoch 150/156\n",
      "89/89 [==============================] - 4s 46ms/step - loss: 3.9876e-04 - root_mean_squared_error: 9.6357e-04 - lr: 0.0030\n",
      "Epoch 151/156\n",
      "89/89 [==============================] - 5s 54ms/step - loss: 9.5231e-05 - root_mean_squared_error: 3.5037e-04 - lr: 3.0000e-04\n",
      "Epoch 152/156\n",
      "89/89 [==============================] - 5s 54ms/step - loss: 6.1369e-05 - root_mean_squared_error: 2.5322e-04 - lr: 3.0000e-04\n",
      "Epoch 153/156\n",
      "89/89 [==============================] - 4s 50ms/step - loss: 6.1394e-05 - root_mean_squared_error: 2.4904e-04 - lr: 3.0000e-04\n",
      "Epoch 154/156\n",
      "89/89 [==============================] - 4s 48ms/step - loss: 6.1152e-05 - root_mean_squared_error: 2.4585e-04 - lr: 3.0000e-04\n",
      "Epoch 155/156\n",
      "89/89 [==============================] - 4s 48ms/step - loss: 5.8355e-05 - root_mean_squared_error: 2.4350e-04 - lr: 3.0000e-04\n",
      "Epoch 156/156\n",
      "89/89 [==============================] - 4s 49ms/step - loss: 5.5979e-05 - root_mean_squared_error: 2.4206e-04 - lr: 3.0000e-04\n"
     ]
    }
   ],
   "source": [
    "## Compiling the model\n",
    "wrapper.compile(optimizer=tf.keras.optimizers.Adam(learning_rate = 3e-3),\n",
    "               loss='mae',\n",
    "               metrics=[tf.keras.metrics.RootMeanSquaredError()]\n",
    "               )\n",
    "\n",
    "np.random.seed(43) \n",
    "tf.random.set_seed(43) \n",
    "\n",
    "# ## Fitting the model\n",
    "history = wrapper.fit(concentration1,train_output4[:,:,:],\n",
    "            epochs=156,verbose=1,\n",
    "            batch_size=64,shuffle=True,\n",
    "            callbacks = [custom_callback, lr_scheduler] \n",
    "           )\n"
   ]
  },
  {
   "cell_type": "markdown",
   "id": "184acaf6",
   "metadata": {},
   "source": [
    "# ---------------------------------------------------------"
   ]
  },
  {
   "cell_type": "markdown",
   "id": "a83d0593",
   "metadata": {},
   "source": [
    "## Save model"
   ]
  },
  {
   "cell_type": "code",
   "execution_count": 34,
   "id": "c6965fd0",
   "metadata": {},
   "outputs": [
    {
     "name": "stdout",
     "output_type": "stream",
     "text": [
      "WARNING:tensorflow:From /home/tony/t071023/pyenv4/lib/python3.6/site-packages/tensorflow/python/ops/resource_variable_ops.py:1817: calling BaseResourceVariable.__init__ (from tensorflow.python.ops.resource_variable_ops) with constraint is deprecated and will be removed in a future version.\n",
      "Instructions for updating:\n",
      "If using Keras pass *_constraint arguments to layers.\n",
      "INFO:tensorflow:Assets written to: advectionLCmodel/assets\n"
     ]
    }
   ],
   "source": [
    "# wrapper.save('advectionLCmodel')  "
   ]
  },
  {
   "cell_type": "markdown",
   "id": "0272800c",
   "metadata": {},
   "source": [
    "## Load the model "
   ]
  },
  {
   "cell_type": "code",
   "execution_count": 38,
   "id": "74be6cbb",
   "metadata": {},
   "outputs": [],
   "source": [
    "wrapper = tf.keras.models.load_model('advectionLCmodel')\n"
   ]
  },
  {
   "cell_type": "markdown",
   "id": "3e78bc48",
   "metadata": {},
   "source": [
    "# Tests of model's performance"
   ]
  },
  {
   "cell_type": "markdown",
   "id": "29a9dd75",
   "metadata": {},
   "source": [
    "## Extrapolating in time for the IC in the training set"
   ]
  },
  {
   "cell_type": "code",
   "execution_count": 35,
   "id": "1239a8f5",
   "metadata": {},
   "outputs": [],
   "source": [
    "x_coarse = np.arange(4,384,8)\n",
    "time_steps = np.arange(0,16*192+1)\n"
   ]
  },
  {
   "cell_type": "code",
   "execution_count": 36,
   "id": "9f3e8f59",
   "metadata": {
    "scrolled": true
   },
   "outputs": [
    {
     "name": "stdout",
     "output_type": "stream",
     "text": [
      "CPU times: user 17.9 s, sys: 938 ms, total: 18.8 s\n",
      "Wall time: 15.3 s\n"
     ]
    },
    {
     "data": {
      "text/plain": [
       "(TensorShape([3073, 30, 48]), TensorShape([30, 48, 3072]))"
      ]
     },
     "execution_count": 36,
     "metadata": {},
     "output_type": "execute_result"
    }
   ],
   "source": [
    "# # if one wants to print corrects too, just after training\n",
    "\n",
    "# %time resulting_states,resulting_corrects= forward_in_time(initial_state = concentration1[0:30], time_steps =time_steps,quantum_steps=4) #129)\n",
    "# resulting_states.shape, resulting_corrects.shape"
   ]
  },
  {
   "cell_type": "code",
   "execution_count": 37,
   "id": "42640228",
   "metadata": {},
   "outputs": [],
   "source": [
    "# #save the corrections for later use or just to be able to load them\n",
    "# corrects_numpy = resulting_corrects.numpy()\n",
    "# np.save('advectionLCmodel_corrects.npy', corrects_numpy)"
   ]
  },
  {
   "cell_type": "code",
   "execution_count": 39,
   "id": "e1e04449",
   "metadata": {},
   "outputs": [
    {
     "name": "stdout",
     "output_type": "stream",
     "text": [
      "CPU times: user 6.39 s, sys: 875 ms, total: 7.27 s\n",
      "Wall time: 3.24 s\n"
     ]
    }
   ],
   "source": [
    "%time resulting_states= forward_in_time(initial_state = concentration1[0:30], time_steps =time_steps,quantum_steps=4) #129)\n"
   ]
  },
  {
   "cell_type": "code",
   "execution_count": 40,
   "id": "7466cb3b",
   "metadata": {},
   "outputs": [],
   "source": [
    "# load the corrections produced\n",
    "resulting_corrects = np.load('advectionLCmodel_corrects.npy')"
   ]
  },
  {
   "cell_type": "markdown",
   "id": "8ed6f4d4",
   "metadata": {},
   "source": [
    "### Plot corrections at different time steps"
   ]
  },
  {
   "cell_type": "code",
   "execution_count": 42,
   "id": "5f555d26",
   "metadata": {},
   "outputs": [
    {
     "data": {
      "image/png": "[encoded data removed]",
      "text/plain": [
       "<Figure size 1080x720 with 4 Axes>"
      ]
     },
     "metadata": {
      "needs_background": "light"
     },
     "output_type": "display_data"
    }
   ],
   "source": [
    "initial_condition_index = 1\n",
    "resulting_states_np = resulting_states\n",
    "resulting_corrects_np = resulting_corrects\n",
    "\n",
    "\n",
    "time_indices = [0, 30, 191, 3071]\n",
    "resulting_corrects_np_adjusted = resulting_corrects_np.transpose(2, 0, 1)  # [3072, 30, 48]\n",
    "\n",
    "fig, axs = plt.subplots(2, 2, figsize=(15, 10))\n",
    "axs = axs.flatten()  # Flatten the array to easily iterate over it\n",
    "\n",
    "for ax, t in zip(axs, time_indices):\n",
    "    field_values = resulting_states_np[t, initial_condition_index, :]\n",
    "    corrections = resulting_corrects_np_adjusted[t, initial_condition_index, :]\n",
    "\n",
    "    ax.plot(np.arange(len(field_values)), field_values, 'o-', color='blue', label='Field Values', markerfacecolor='b', markeredgecolor='b', markersize=5)\n",
    "    \n",
    "    ax.bar(np.arange(len(corrections)), corrections, width=0.35, label='Corrections', color='red', alpha=0.7)\n",
    "\n",
    "    ax.set_xlabel('Grid Points')\n",
    "    ax.set_ylabel('Values')\n",
    "    ax.set_title(f'Corrections at all points on the grid (time step {t+1})')\n",
    "    ax.legend()\n",
    "\n",
    "fig.tight_layout(pad=3.0)\n"
   ]
  },
  {
   "cell_type": "code",
   "execution_count": 44,
   "id": "911eb2c3",
   "metadata": {},
   "outputs": [
    {
     "data": {
      "text/plain": [
       "Frozen({'time': 3073, 'sample': 30, 'x': 48})"
      ]
     },
     "execution_count": 44,
     "metadata": {},
     "output_type": "execute_result"
    }
   ],
   "source": [
    "time_steps = np.arange(0,16*192+1)\n",
    "\n",
    "\n",
    "def wrap_as_xarray(integrated):\n",
    "  dr = xarray.DataArray(\n",
    "      integrated.numpy(),\n",
    "      dims = ('time', 'sample', 'x'),\n",
    "      coords = {'time': time_steps, 'x': x_coarse}\n",
    "  )\n",
    "  return dr\n",
    "\n",
    "\n",
    "dr_nn = wrap_as_xarray(resulting_states)\n",
    "dr_nn.sizes"
   ]
  },
  {
   "cell_type": "code",
   "execution_count": 45,
   "id": "dda2e73e",
   "metadata": {},
   "outputs": [
    {
     "data": {
      "text/plain": [
       "<xarray.plot.facetgrid.FacetGrid at 0x7f162505f790>"
      ]
     },
     "execution_count": 45,
     "metadata": {},
     "output_type": "execute_result"
    },
    {
     "data": {
      "image/png": "[encoded data removed]",
      "text/plain": [
       "<Figure size 781.25x216 with 3 Axes>"
      ]
     },
     "metadata": {
      "needs_background": "light"
     },
     "output_type": "display_data"
    }
   ],
   "source": [
    "dr_nn.isel(time=[0,192,3072], sample=[6, 10, 15]).plot(col='sample', hue='time')\n"
   ]
  },
  {
   "cell_type": "markdown",
   "id": "6a171133",
   "metadata": {},
   "source": [
    "# Comparison with low-res and high-res simulation"
   ]
  },
  {
   "cell_type": "markdown",
   "id": "52e1d149",
   "metadata": {},
   "source": [
    "## -Single IC plot, many time_steps\n",
    "\n",
    "\n"
   ]
  },
  {
   "cell_type": "code",
   "execution_count": 46,
   "id": "3ffa61d5",
   "metadata": {},
   "outputs": [],
   "source": [
    "low_steps = np.arange(0, 16*192+1)\n",
    "x_low = np.arange(0,384,8)\n",
    "\n",
    "def wrap_as_xarray_single(integrated):\n",
    "  dr = xarray.DataArray(\n",
    "      integrated,\n",
    "      dims = ('time', 'x'),\n",
    "      coords = {'time': low_steps, 'x': x_coarse} \n",
    "  )\n",
    "  return dr\n",
    "\n"
   ]
  },
  {
   "cell_type": "markdown",
   "id": "19806407",
   "metadata": {},
   "source": [
    "## -------- Scaled IC, offseted, different width, extrapolation in time"
   ]
  },
  {
   "cell_type": "code",
   "execution_count": 47,
   "id": "7792ecc1",
   "metadata": {},
   "outputs": [
    {
     "data": {
      "text/plain": [
       "(TensorShape([3073, 30, 48]),\n",
       " TensorShape([3073, 30, 48]),\n",
       " TensorShape([30, 48]))"
      ]
     },
     "execution_count": 47,
     "metadata": {},
     "output_type": "execute_result"
    }
   ],
   "source": [
    "high_res_off =  0.65*tf.roll(np.load('high_res_simul384_width.npy'),shift=10,axis=2)\n",
    "low_res_off =  0.65*tf.roll(np.load('low_res_simul384_width.npy'),shift=10,axis=2)\n",
    "concentration1_width = np.load('concentration1_width.npy')\n",
    "\n",
    "\n",
    "\n",
    "initial_cond2 = concentration1_width[0:30]\n",
    "initial_cond3 = 0.65*initial_cond2\n",
    "initial_cond4 = tf.roll(initial_cond3,shift=10,axis=1)\n",
    "\n",
    "\n",
    "\n",
    "high_res_off.shape, low_res_off.shape, initial_cond4.shape"
   ]
  },
  {
   "cell_type": "code",
   "execution_count": 48,
   "id": "a03336fa",
   "metadata": {},
   "outputs": [
    {
     "name": "stdout",
     "output_type": "stream",
     "text": [
      "CPU times: user 6.09 s, sys: 906 ms, total: 7 s\n",
      "Wall time: 3.24 s\n"
     ]
    },
    {
     "data": {
      "text/plain": [
       "TensorShape([3073, 30, 48])"
      ]
     },
     "execution_count": 48,
     "metadata": {},
     "output_type": "execute_result"
    }
   ],
   "source": [
    "%time resulting_states_3= forward_in_time(initial_state = initial_cond4, time_steps =time_steps,quantum_steps=4)\n",
    "resulting_states_3.shape\n"
   ]
  },
  {
   "cell_type": "code",
   "execution_count": 50,
   "id": "ecb1d8d9",
   "metadata": {},
   "outputs": [
    {
     "data": {
      "text/plain": [
       "(Frozen({'time': 3073, 'x': 48}),\n",
       " Frozen({'time': 3073, 'x': 48}),\n",
       " Frozen({'time': 3073, 'x': 48}))"
      ]
     },
     "execution_count": 50,
     "metadata": {},
     "output_type": "execute_result"
    }
   ],
   "source": [
    "IC_ind = 12 \n",
    "# IC_ind = 0 #the worst (out of training distr)\n",
    "\n",
    "dr_low_single_off = wrap_as_xarray_single(low_res_off[:,IC_ind,:])\n",
    "dr_high_single_off = wrap_as_xarray_single(high_res_off[:,IC_ind,:])\n",
    "dr_nn_single_off = wrap_as_xarray_single(resulting_states_3[:,IC_ind,:])\n",
    "\n",
    "dr_low_single_off.sizes,dr_high_single_off.sizes,dr_nn_single_off.sizes"
   ]
  },
  {
   "cell_type": "code",
   "execution_count": 51,
   "id": "754020e6",
   "metadata": {},
   "outputs": [],
   "source": [
    "dr_all_singleIC_off = xarray.concat([dr_nn_single_off, dr_low_single_off, dr_high_single_off], dim='model')\n",
    "\n",
    "dr_all_singleIC_off.coords['model'] = ['hybrid', '2nd-order[superbee],coarse','2nd-order[superbee],fine']\n"
   ]
  },
  {
   "cell_type": "code",
   "execution_count": 53,
   "id": "052fa160",
   "metadata": {},
   "outputs": [
    {
     "data": {
      "text/plain": [
       "Text(0.5,1.03,'Performance of the Hybrid Solver in time: out-of-sample IC, translated and interpolated in scale')"
      ]
     },
     "execution_count": 53,
     "metadata": {},
     "output_type": "execute_result"
    },
    {
     "data": {
      "image/png": "[encoded data removed]",
      "text/plain": [
       "<Figure size 1040.25x432 with 6 Axes>"
      ]
     },
     "metadata": {
      "needs_background": "light"
     },
     "output_type": "display_data"
    }
   ],
   "source": [
    "T = 96\n",
    "(dr_all_singleIC_off.isel(time=[0, 75, 2*T,\n",
    "                                4*T,16*T, 32*T\n",
    "                            ])\n",
    ".rename({'time': 'time_step','x': 'x [m]'}).plot(hue='model', col='time_step',col_wrap=3, alpha=0.6, linewidth=2,figsize=[12, 2*3])\n",
    ")\n",
    "\n",
    "plt.suptitle('Performance of the Hybrid Solver in time: out-of-sample IC, translated and interpolated in scale', y=1.03, fontsize=16)\n",
    "\n"
   ]
  },
  {
   "cell_type": "code",
   "execution_count": 54,
   "id": "d3655de4",
   "metadata": {},
   "outputs": [],
   "source": [
    "lo = low_res_off\n",
    "hi = high_res_off\n",
    "my = resulting_states_3\n",
    "\n",
    "sample_inf =6 # remove first dummy samples, 1st height is out of training distr, 2nd height also typically does not work well\n",
    "sample_sup =30\n",
    "time_sup =16*192"
   ]
  },
  {
   "cell_type": "code",
   "execution_count": 55,
   "id": "35c75f49",
   "metadata": {},
   "outputs": [
    {
     "data": {
      "text/plain": [
       "<matplotlib.legend.Legend at 0x7f162bbbd9d0>"
      ]
     },
     "execution_count": 55,
     "metadata": {},
     "output_type": "execute_result"
    },
    {
     "data": {
      "image/png": "[encoded data removed]",
      "text/plain": [
       "<Figure size 864x432 with 1 Axes>"
      ]
     },
     "metadata": {
      "needs_background": "light"
     },
     "output_type": "display_data"
    }
   ],
   "source": [
    "### SCALED BY HEIGHTS BEFORE CALCULATING MAE FOR EACH SQ. WAVE GIVES SAME RESULTS, (THEY ARE NORMALIZED EITHER WAY)\n",
    "\n",
    "time_sup_values = range(1, 16*192,50)  # Example: from 1 to 50\n",
    "\n",
    "l1_values = []\n",
    "l2_values = []\n",
    "\n",
    "# Iterate over the range of time_sup values\n",
    "for time_sup in time_sup_values:\n",
    "    l1 = tf.keras.losses.MeanAbsoluteError()(lo[:time_sup, sample_inf:sample_sup, :], hi[:time_sup, sample_inf:sample_sup, :])\n",
    "    l2 = tf.keras.losses.MeanAbsoluteError()(my[:time_sup, sample_inf:sample_sup, :], hi[:time_sup, sample_inf:sample_sup, :])\n",
    "\n",
    "    l1_values.append(l1.numpy())  \n",
    "    l2_values.append(l2.numpy())\n",
    "\n",
    "\n",
    "    \n",
    "plt.figure(figsize=(12, 6))\n",
    "plt.plot(time_sup_values, l1_values, label='MAE of numerical solution on fine and coarse grid')\n",
    "plt.plot(time_sup_values, l2_values, label='MAE of numerical solution on fine and hybrid solution at coarse grid')\n",
    "\n",
    "plt.axvline(x=192, color='r', linestyle='--', label='training data ends in time_step = 192')\n",
    "\n",
    "\n",
    "plt.xlabel('time_step')\n",
    "plt.ylabel('Loss [MAE]')\n",
    "plt.title('Comparison of MAE between numerical and hybrid solvers (pressure and velocity fields combined)')\n",
    "plt.legend()\n"
   ]
  }
 ],
 "metadata": {
  "kernelspec": {
   "display_name": "pyenv4",
   "language": "python",
   "name": "pyenv4"
  },
  "language_info": {
   "codemirror_mode": {
    "name": "ipython",
    "version": 3
   },
   "file_extension": ".py",
   "mimetype": "text/x-python",
   "name": "python",
   "nbconvert_exporter": "python",
   "pygments_lexer": "ipython3",
   "version": "3.6.15"
  }
 },
 "nbformat": 4,
 "nbformat_minor": 5
}
